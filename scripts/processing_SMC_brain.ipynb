{
 "cells": [
  {
   "cell_type": "code",
   "execution_count": null,
   "id": "f7044a8e-fbe0-4f40-ba39-9b775a583d0a",
   "metadata": {
    "tags": []
   },
   "outputs": [],
   "source": [
    "import scanpy as sc\n",
    "import os,sys,glob\n",
    "import pandas as pd\n",
    "import numpy as np\n",
    "import anndata as ad\n",
    "import matplotlib.pyplot as plt\n",
    "\n",
    "\n",
    "import scrublet as scr\n",
    "import seaborn as sns\n",
    "#import multiprocessing"
   ]
  },
  {
   "cell_type": "code",
   "execution_count": null,
   "id": "a3ab9871-cb88-4ade-81b2-4c8124f42b3c",
   "metadata": {},
   "outputs": [],
   "source": [
    "fs = glob.glob(path_dir + '/raw/matrix/*')\n",
    "fs = list(set([f.split('/')[-1] for f in fs]))\n",
    "print(len(fs))"
   ]
  },
  {
   "cell_type": "markdown",
   "id": "acabe97d-9896-45d4-b738-0d654ed25710",
   "metadata": {},
   "source": [
    "# 01. Loading and Merging all data "
   ]
  },
  {
   "cell_type": "code",
   "execution_count": null,
   "id": "00071d52-2213-4389-b8cc-244810b80ae2",
   "metadata": {},
   "outputs": [],
   "source": [
    "meta = pd.read_csv(path_dir + '/metadata/scRNA_Korean_20240321.csv')\n",
    "\n",
    "meta['individualID']=meta['individualID'].str.replace(\"-\",\"\")\n",
    "#meta['Diagnosis']=meta['Final  diagnosis group']\n",
    "#meta['Clinical_Diagnosis']=meta['Clinical Diagnosis']\n",
    "meta['Amyloid_positive']=meta['Amyloid positive']\n",
    "meta['Sex']=meta['Amyloid positive']\n",
    "meta['Age at death']=meta['age at death']\n",
    "\n",
    "meta.loc[meta['A']=='A0', 'Alabel'] = 'Low'\n",
    "meta.loc[meta['A']=='A1', 'Alabel'] = 'Low'\n",
    "meta.loc[meta['A']=='A2', 'Alabel'] = 'High'\n",
    "meta.loc[meta['A']=='A3', 'Alabel'] = 'High'\n",
    "\n",
    "meta.loc[meta['B']=='B0', 'Blabel'] = 'Low'\n",
    "meta.loc[meta['B']=='B1', 'Blabel'] = 'Low'\n",
    "meta.loc[meta['B']=='B2', 'Blabel'] = 'High'\n",
    "meta.loc[meta['B']=='B3', 'Blabel'] = 'High'\n",
    "\n",
    "meta.loc[meta['C']=='C0', 'Clabel'] = 'Low'\n",
    "meta.loc[meta['C']=='C1', 'Clabel'] = 'Low'\n",
    "meta.loc[meta['C']=='C2', 'Clabel'] = 'High'\n",
    "meta.loc[meta['C']=='C3', 'Clabel'] = 'High'\n",
    "\n",
    "meta = meta[['individualID','batch',\n",
    "             'birth','Age at death','Sex',\n",
    "             'Diagnosis','Clinical_Diagnosis',\n",
    "             'A','B','C','Alabel','Clabel','Clabel','Amyloid_positive' ]]\n",
    "\n",
    "meta.head()"
   ]
  },
  {
   "cell_type": "code",
   "execution_count": null,
   "id": "a35fed76",
   "metadata": {},
   "outputs": [],
   "source": [
    "def load_smc(f):\n",
    "    #print (f)\n",
    "    adata1 = sc.read_10x_mtx(path_dir + '/raw/matrix/' + f)\n",
    "    adata1.var_names_make_unique()\n",
    "    \n",
    "    # Update meta information\n",
    "    # Update information    \n",
    "    obs=adata1.obs.copy()\n",
    "    obs.reset_index(inplace=True)\n",
    "    obs.columns=['barcode']\n",
    "    obs['individualID'] = f\n",
    "\n",
    "    obs1=pd.merge(obs, meta, on='individualID', how='left')\n",
    "    obs1.set_index('barcode', inplace=True)\n",
    "\n",
    "    # Use only intersected barcodes for concat\n",
    "    intersected_index = obs1.index.intersection(adata1.obs.index)\n",
    "\n",
    "    # Concat meta information\n",
    "    obs1 = obs1.loc[intersected_index]\n",
    "    adata2 = adata1[intersected_index]\n",
    "    adata2.obs = pd.concat([adata2.obs, obs1], axis=1)\n",
    "    del adata1\n",
    "    \n",
    "    # Update the barcodes\n",
    "    adata2.name = f\n",
    "    adata2.obs_names = [f'{adata2.name}_{i}' for i in adata2.obs_names]\n",
    "    \n",
    "    \n",
    "    return adata2"
   ]
  },
  {
   "cell_type": "code",
   "execution_count": null,
   "id": "94139672-b7d2-4a67-8949-379a38aec578",
   "metadata": {},
   "outputs": [],
   "source": [
    "i=0\n",
    "results = []\n",
    "for f in fs:\n",
    "    i=i+1\n",
    "    print(i, '/',len(fs),':',f)\n",
    "    result = load_smc(f)\n",
    "    results.append(result)"
   ]
  },
  {
   "cell_type": "code",
   "execution_count": null,
   "id": "4ce8e030-f059-4d67-a055-e85e74266dc4",
   "metadata": {},
   "outputs": [],
   "source": [
    "adata = ad.concat(results, join=\"outer\")"
   ]
  },
  {
   "cell_type": "code",
   "execution_count": null,
   "id": "05faeee5-4839-49a6-86dd-31e98a4bd46e",
   "metadata": {},
   "outputs": [],
   "source": [
    "adata.obs_names_make_unique() \n",
    "adata.var_names_make_unique() "
   ]
  },
  {
   "cell_type": "code",
   "execution_count": null,
   "id": "afe09ece-5ec7-4455-8146-4b8154f17fce",
   "metadata": {},
   "outputs": [],
   "source": [
    "adata = sc.read_h5ad(path_dir + '/data/scanpy/SMC_Brain.h5ad')"
   ]
  },
  {
   "cell_type": "markdown",
   "id": "e797b543-68ba-4b29-8b0e-4da661bbf3af",
   "metadata": {
    "tags": []
   },
   "source": [
    "# 02. QC"
   ]
  },
  {
   "cell_type": "markdown",
   "id": "429de326-d2e9-4eb3-a645-b31fe2363ac3",
   "metadata": {},
   "source": [
    "## 02.01 QC01"
   ]
  },
  {
   "cell_type": "code",
   "execution_count": null,
   "id": "8bb04114-7730-4512-a8ed-332c9f99a9e2",
   "metadata": {},
   "outputs": [],
   "source": [
    "dataset='SMC_Brain'"
   ]
  },
  {
   "cell_type": "code",
   "execution_count": null,
   "id": "8a0f7f9d-c4a2-42f8-b003-bcb4cf1dcfe4",
   "metadata": {},
   "outputs": [],
   "source": [
    "adata = sc.read_h5ad(path_dir + '/data/scanpy/SMC_Brain.h5ad')"
   ]
  },
  {
   "cell_type": "code",
   "execution_count": null,
   "id": "7a4b9f44-c827-449b-a6bd-ae342918fbfb",
   "metadata": {},
   "outputs": [],
   "source": [
    "adata"
   ]
  },
  {
   "cell_type": "code",
   "execution_count": null,
   "id": "4f96d2bf-1099-4b8b-811f-479859267eb6",
   "metadata": {},
   "outputs": [],
   "source": [
    "# mitochondrial genes\n",
    "adata.var['mt'] = adata.var_names.str.startswith('MT-') \n",
    "# ribosomal genes\n",
    "adata.var['ribo'] = adata.var_names.str.startswith((\"RPS\",\"RPL\"))\n",
    "# hemoglobin genes.\n",
    "adata.var['hb'] = adata.var_names.str.contains((\"^HB[^(P)]\"))"
   ]
  },
  {
   "cell_type": "code",
   "execution_count": null,
   "id": "0c5fbf23-a8fb-4fa4-b13d-5583f3834f6a",
   "metadata": {},
   "outputs": [],
   "source": [
    "sc.pp.calculate_qc_metrics(adata, qc_vars=['mt'], percent_top=None, log1p=False, inplace=True)"
   ]
  },
  {
   "cell_type": "code",
   "execution_count": null,
   "id": "e43a0fd2-6e45-4f33-a815-36a3b784be12",
   "metadata": {},
   "outputs": [],
   "source": [
    "sc.pl.violin(adata, ['n_genes_by_counts','total_counts', 'pct_counts_mt'],\n",
    "             jitter=0.4, multi_panel=True, groupby='individualID', rotation= 45,\n",
    "            save='_' + dataset + '_QC_individual_before.pdf'\n",
    "            )"
   ]
  },
  {
   "cell_type": "code",
   "execution_count": null,
   "id": "5778bdd7-f092-49c1-b347-af18f7f3c5b5",
   "metadata": {},
   "outputs": [],
   "source": [
    "sc.pl.violin(adata, ['n_genes_by_counts','total_counts', 'pct_counts_mt'],\n",
    "             jitter=0.4, multi_panel=True,\n",
    "            save='_' + dataset + '_QC_total_before.pdf'\n",
    "            )"
   ]
  },
  {
   "cell_type": "code",
   "execution_count": null,
   "id": "6e7feb0a-10d1-4557-a233-d803bbc59737",
   "metadata": {},
   "outputs": [],
   "source": [
    "q1=np.quantile(adata.obs['n_genes_by_counts'], .25)\n",
    "q3=np.quantile(adata.obs['n_genes_by_counts'], .75)\n",
    "#print(q1, q3)\n",
    "\n",
    "upper_gene=q3+3*(q3-q1)\n",
    "under_gene=q1-3*(q3-q1)\n",
    "print(under_gene, upper_gene)\n",
    "\n",
    "q1=np.quantile(adata.obs['total_counts'], .25)\n",
    "q3=np.quantile(adata.obs['total_counts'], .75)\n",
    "#print(q1, q3)\n",
    "\n",
    "upper_total=q3+3*(q3-q1)\n",
    "under_total=q1-3*(q3-q1)\n",
    "print(under_total, upper_total)\n",
    "\n",
    "q1=np.quantile(adata.obs['pct_counts_mt'], .25)\n",
    "q3=np.quantile(adata.obs['pct_counts_mt'], .75)\n",
    "#print(q1, q3)\n",
    "\n",
    "upper_mt=q3+3*(q3-q1)\n",
    "under_mt=q1-3*(q3-q1)\n",
    "print(under_mt, upper_mt)\n"
   ]
  },
  {
   "cell_type": "code",
   "execution_count": null,
   "id": "aacfdad4-b2a8-47cc-a1fe-0cb87f3a2f0a",
   "metadata": {},
   "outputs": [],
   "source": [
    "adata = adata[adata.obs.n_genes_by_counts > under_gene, :]\n",
    "adata = adata[adata.obs.n_genes_by_counts < upper_gene, :]\n",
    "adata = adata[adata.obs.total_counts > under_total, :]\n",
    "adata = adata[adata.obs.total_counts < upper_total, :]\n",
    "adata = adata[adata.obs.pct_counts_mt > under_mt, :]\n",
    "adata = adata[adata.obs.pct_counts_mt < upper_mt, :]"
   ]
  },
  {
   "cell_type": "code",
   "execution_count": null,
   "id": "fc230cb0-4198-4def-b157-8f9b33700426",
   "metadata": {},
   "outputs": [],
   "source": [
    "sc.pp.filter_cells(adata, min_genes=500)\n",
    "sc.pp.filter_genes(adata, min_cells=10)\n",
    "adata = adata[adata.obs.pct_counts_mt < 5, :]"
   ]
  },
  {
   "cell_type": "code",
   "execution_count": null,
   "id": "c3ac2c74-42e5-437b-8536-2b9f142fc54c",
   "metadata": {},
   "outputs": [],
   "source": [
    "adata\n",
    "\n",
    "malat1 = adata.var_names.str.startswith('MALAT1')\n",
    "# we need to redefine the mito_genes since they were first \n",
    "# calculated on the full object before removing low expressed genes.\n",
    "mito_genes = adata.var_names.str.startswith('MT-')\n",
    "hb_genes = adata.var_names.str.contains('^HB[^(P)]')\n",
    "\n",
    "remove = np.add(mito_genes, malat1)\n",
    "remove = np.add(remove, hb_genes)\n",
    "keep = np.invert(remove)\n",
    "\n",
    "adata = adata[:,keep]\n",
    "\n",
    "print(adata.n_obs, adata.n_vars)"
   ]
  },
  {
   "cell_type": "code",
   "execution_count": null,
   "id": "59386990-92cd-423c-8cd4-ccc8bc0f0817",
   "metadata": {},
   "outputs": [],
   "source": [
    "sc.pl.violin(adata, ['n_genes_by_counts','total_counts', 'pct_counts_mt'],\n",
    "             jitter=0.4, multi_panel=True, groupby='individualID',\n",
    "            save='_' + dataset + '_QC_individual_after.pdf'\n",
    "            )"
   ]
  },
  {
   "cell_type": "code",
   "execution_count": null,
   "id": "f7122a14-59d2-4d9b-bb55-a4e53a0b9915",
   "metadata": {},
   "outputs": [],
   "source": [
    "sc.pl.violin(adata, ['n_genes_by_counts','total_counts', 'pct_counts_mt'],\n",
    "             jitter=0.4, multi_panel=True,\n",
    "            save='_' + dataset + '_QC_total_after.pdf'\n",
    "            )"
   ]
  },
  {
   "cell_type": "markdown",
   "id": "27aac3d4-674b-45b5-a434-e7c6288b69c2",
   "metadata": {},
   "source": [
    "## 02.03 QC02"
   ]
  },
  {
   "cell_type": "code",
   "execution_count": null,
   "id": "4e9c3111-deee-473d-974a-eed8c5215d91",
   "metadata": {},
   "outputs": [],
   "source": [
    "# split per batch into new objects.\n",
    "batches = adata.obs['individualID'].cat.categories.tolist()\n",
    "alldata = {}\n",
    "for batch in batches:\n",
    "    tmp = adata[adata.obs['individualID'] == batch,]\n",
    "    print(batch, \":\", tmp.shape[0], \" cells\")\n",
    "    scrub = scr.Scrublet(tmp.X)\n",
    "    out = scrub.scrub_doublets(verbose=False, n_prin_comps = 20)\n",
    "    alldata[batch] = pd.DataFrame({'doublet_score':out[0],'predicted_doublets':out[1]},index = tmp.obs.index)\n",
    "    print(alldata[batch].predicted_doublets.sum(), \" predicted_doublets\")\n",
    "    "
   ]
  },
  {
   "cell_type": "code",
   "execution_count": null,
   "id": "387dc7a5-5c71-4285-98f4-3e7828b7b9e4",
   "metadata": {},
   "outputs": [],
   "source": [
    "# add predictions to the adata object.\n",
    "scrub_pred = pd.concat(alldata.values())\n",
    "adata.obs['doublet_scores'] = scrub_pred['doublet_score'] \n",
    "adata.obs['predicted_doublets'] = scrub_pred['predicted_doublets'] \n",
    "\n",
    "sum(adata.obs['predicted_doublets'])"
   ]
  },
  {
   "cell_type": "code",
   "execution_count": null,
   "id": "b5bb9b82-4fde-4c27-89d5-2148f65c3feb",
   "metadata": {},
   "outputs": [],
   "source": [
    "adata = adata[adata.obs['doublet_info'] == 'False',:]\n",
    "print(adata.shape)"
   ]
  },
  {
   "cell_type": "code",
   "execution_count": null,
   "id": "ccc1df0e-a23c-4695-824f-cbe92e55471c",
   "metadata": {},
   "outputs": [],
   "source": [
    "adata.write(path_dir + '/data/scanpy/SMC_Brain.QC.h5ad')"
   ]
  },
  {
   "cell_type": "code",
   "execution_count": null,
   "id": "f9689f78-e5f9-4035-9f83-f0c68981b8a7",
   "metadata": {},
   "outputs": [],
   "source": []
  },
  {
   "cell_type": "markdown",
   "id": "0fca7c5a-bde7-46d4-803b-50bcdca456d3",
   "metadata": {},
   "source": [
    "# 03.Integration(Harmony)"
   ]
  },
  {
   "cell_type": "code",
   "execution_count": null,
   "id": "d143d96c-e4bd-471e-943d-fee681582e93",
   "metadata": {},
   "outputs": [],
   "source": [
    "dataset='SMC_Brain'"
   ]
  },
  {
   "cell_type": "code",
   "execution_count": null,
   "id": "7e5f4c99-ff3e-4bc8-b95a-19d3d827c74a",
   "metadata": {},
   "outputs": [],
   "source": [
    "adata = sc.read_h5ad(path_dir + '/data/scanpy/SMC_Brain.QC.h5ad')"
   ]
  },
  {
   "cell_type": "code",
   "execution_count": null,
   "id": "7552e6c9-86a1-4be6-a6f1-db66806624bb",
   "metadata": {},
   "outputs": [],
   "source": [
    "adata"
   ]
  },
  {
   "cell_type": "code",
   "execution_count": null,
   "id": "8524eb24-7eaa-4157-b39e-0aa04d73e726",
   "metadata": {},
   "outputs": [],
   "source": [
    "adata_int=adata.copy()"
   ]
  },
  {
   "cell_type": "code",
   "execution_count": null,
   "id": "6bc3e770-ba2c-490e-bb2f-4e218f9abb54",
   "metadata": {},
   "outputs": [],
   "source": [
    "# Barcode가 실제 작동하는지 확인하기 위해 UMAP\n",
    "#adata_int.layers[\"counts\"] = adata_int.X.copy()\n",
    "sc.pp.normalize_total(adata_int, target_sum=1e4)\n",
    "sc.pp.log1p(adata_int)"
   ]
  },
  {
   "cell_type": "code",
   "execution_count": null,
   "id": "29d8e2c9-a8f1-444e-9fff-d3f4f42394f1",
   "metadata": {},
   "outputs": [],
   "source": [
    "adata_int"
   ]
  },
  {
   "cell_type": "code",
   "execution_count": null,
   "id": "28fe543d-cae1-47b5-bae6-e9243aad5190",
   "metadata": {},
   "outputs": [],
   "source": [
    "sc.pp.highly_variable_genes(adata_int, min_mean=0.0125, max_mean=3, min_disp=0.5)\n",
    "adata_int = adata_int[:, adata_int.var.highly_variable]\n",
    "#sc.pp.regress_out(adata_int, ['n_counts'])\n",
    "sc.pp.scale(adata_int, max_value=10)"
   ]
  },
  {
   "cell_type": "code",
   "execution_count": null,
   "id": "8827ebb9-db25-4fa5-81b0-82dccf0eb79f",
   "metadata": {},
   "outputs": [],
   "source": [
    "sc.tl.pca(adata_int, svd_solver='arpack')"
   ]
  },
  {
   "cell_type": "code",
   "execution_count": null,
   "id": "e3960bf4-2885-4f8a-9c28-6330499d9e17",
   "metadata": {},
   "outputs": [],
   "source": [
    "adata_int.obs['batch'] = adata_int.obs['batch'].astype('category')\n",
    "adata_int.obs['individualID'] = adata_int.obs['individualID'].astype('category')"
   ]
  },
  {
   "cell_type": "code",
   "execution_count": null,
   "id": "0e15767f-3c50-42c8-ab0e-14b68728b58e",
   "metadata": {},
   "outputs": [],
   "source": [
    "sc.external.pp.harmony_integrate(adata_int, 'individualID')\n",
    "adata_int.obsm['X_pca'] = adata_int.obsm['X_pca_harmony']"
   ]
  },
  {
   "cell_type": "code",
   "execution_count": null,
   "id": "dc5e5849-8de1-47a3-bad5-a3bb20ebed56",
   "metadata": {},
   "outputs": [],
   "source": [
    "sc.pp.neighbors(adata_int, n_neighbors=100, n_pcs=20)\n",
    "sc.tl.leiden(adata_int, resolution=0.8, n_iterations=10)\n",
    "\n",
    "sc.tl.umap(adata_int)"
   ]
  },
  {
   "cell_type": "code",
   "execution_count": null,
   "id": "ac8e0ced-6fab-4882-beda-aa5e85652b68",
   "metadata": {},
   "outputs": [],
   "source": [
    "col_dict_disease = {\n",
    "    'Control':'#bfc1c2', # Grey\n",
    "    'Active control':'#ff7f00',\n",
    "    'AD':'#e31a1c' # Red\n",
    "}\n",
    "sc.pl.umap(adata_int, color=[ 'Diagnosis' ],\n",
    "           palette=col_dict_disease,\n",
    "           save='_' + dataset + '_QC_Diagnosis_after.pdf' \n",
    "          )"
   ]
  },
  {
   "cell_type": "code",
   "execution_count": null,
   "id": "5ff34b34-0a6f-43af-bcf0-4a5fa2b12fd7",
   "metadata": {},
   "outputs": [],
   "source": [
    "sc.pl.umap(adata_int, color=[ 'batch' ],\n",
    "           #palette=col_dict_disease,\n",
    "           save='_' + dataset + '_QC_batch_after.pdf' \n",
    "          )"
   ]
  },
  {
   "cell_type": "code",
   "execution_count": null,
   "id": "aef82123-9bfd-412e-9809-11b4f5aa2625",
   "metadata": {},
   "outputs": [],
   "source": [
    "sc.pl.umap(adata_int, color=[ 'individualID' ],\n",
    "           save=\"_\" + dataset + \"_QC_individual_after.pdf\" \n",
    "          )"
   ]
  },
  {
   "cell_type": "code",
   "execution_count": null,
   "id": "4a27d2f4-7f46-4f5a-96f4-625421a53c90",
   "metadata": {},
   "outputs": [],
   "source": [
    "col_dict_sex = {\n",
    "    'Male':'#1f78b4', # Grey\n",
    "    'Female':'#e31a1c' # Red\n",
    "}\n",
    "sc.pl.umap(adata_int, color=[ 'Sex' ],\n",
    "           palette=col_dict_sex,\n",
    "           save='_' + dataset + '_QC_Sex_after.pdf' \n",
    "          )"
   ]
  },
  {
   "cell_type": "code",
   "execution_count": null,
   "id": "59102f11-d4f2-4217-95f5-e706be6f7824",
   "metadata": {},
   "outputs": [],
   "source": [
    "adata.obs['leiden']=adata_int.obs['leiden']"
   ]
  },
  {
   "cell_type": "code",
   "execution_count": null,
   "id": "decf54f4-aa13-4cdd-a82a-e52f2c1dbd55",
   "metadata": {},
   "outputs": [],
   "source": [
    "adata.obsm['X_umap']=adata_int.obsm['X_umap']\n",
    "adata.obsm['X_pca']=adata_int.obsm['X_pca']\n",
    "#adata.varm=adata_int.varm"
   ]
  },
  {
   "cell_type": "code",
   "execution_count": null,
   "id": "2a95c2bf-ed6b-428c-8a26-9cec69af4df0",
   "metadata": {},
   "outputs": [],
   "source": [
    "# Output name\n",
    "fn = path_dir + '/data/scanpy/SMC_Brain.QC.Harmony.h5ad'\n",
    "\n",
    "print (fn)"
   ]
  },
  {
   "cell_type": "code",
   "execution_count": null,
   "id": "bb6aa33b-a2a1-4598-bc2b-fd61cd42646a",
   "metadata": {
    "tags": []
   },
   "outputs": [],
   "source": [
    "# Write\n",
    "adata.write(fn)"
   ]
  },
  {
   "cell_type": "code",
   "execution_count": null,
   "id": "eef97224-ff33-494e-976e-e039f5a5d54d",
   "metadata": {},
   "outputs": [],
   "source": []
  },
  {
   "cell_type": "markdown",
   "id": "553da279-67be-4980-9f63-ed6c7b56d886",
   "metadata": {
    "tags": []
   },
   "source": [
    "# 04 Annotation"
   ]
  },
  {
   "cell_type": "code",
   "execution_count": null,
   "id": "f0a06828-0c30-497a-90c1-d7aa06e94367",
   "metadata": {},
   "outputs": [],
   "source": [
    "dataset='SMC_Brain'"
   ]
  },
  {
   "cell_type": "code",
   "execution_count": null,
   "id": "28a5218a-05f1-4679-9a07-fa630f9d15db",
   "metadata": {},
   "outputs": [],
   "source": [
    "infile=path_dir + '/data/scanpy/SMC_Brain.QC.Harmony.h5ad'"
   ]
  },
  {
   "cell_type": "code",
   "execution_count": null,
   "id": "2a717866-9e73-466c-bca2-30aaea763f57",
   "metadata": {},
   "outputs": [],
   "source": [
    "adata = sc.read(infile)"
   ]
  },
  {
   "cell_type": "code",
   "execution_count": null,
   "id": "ec5ccecd-f79c-4f07-85c9-1fc16e85a841",
   "metadata": {},
   "outputs": [],
   "source": [
    "adata_int=adata.copy()"
   ]
  },
  {
   "cell_type": "code",
   "execution_count": null,
   "id": "c1e70daf-4281-4bf5-9fce-419c59348ae3",
   "metadata": {},
   "outputs": [],
   "source": [
    "adata_int"
   ]
  },
  {
   "cell_type": "code",
   "execution_count": null,
   "id": "21b1f25a-fda6-4348-a667-1c9032e74683",
   "metadata": {},
   "outputs": [],
   "source": [
    "sc.pp.normalize_total(adata_int, target_sum=1e4)\n",
    "sc.pp.log1p(adata_int)"
   ]
  },
  {
   "cell_type": "code",
   "execution_count": null,
   "id": "1822b613-5589-4d8c-beca-cc119c6d1b11",
   "metadata": {},
   "outputs": [],
   "source": [
    "sc.pp.highly_variable_genes(adata_int, min_mean=0.0125, max_mean=3, min_disp=0.5)\n",
    "sc.pp.neighbors(adata_int, n_neighbors=100, n_pcs=20)"
   ]
  },
  {
   "cell_type": "code",
   "execution_count": null,
   "id": "63bcc9ee-4363-43bd-b61f-ec96243ce578",
   "metadata": {},
   "outputs": [],
   "source": [
    "adata_int"
   ]
  },
  {
   "cell_type": "code",
   "execution_count": null,
   "id": "ab2cb153-fea5-4343-a06c-9db80cd40883",
   "metadata": {},
   "outputs": [],
   "source": [
    "adata_ref = sc.read_h5ad(path_dir + '/Allen/cortical/Allen_cortex.umap.h5ad')"
   ]
  },
  {
   "cell_type": "code",
   "execution_count": null,
   "id": "1058553f-a175-4119-a444-3eec8334a3ae",
   "metadata": {},
   "outputs": [],
   "source": [
    "adata_ref.obs.class_label.value_counts()"
   ]
  },
  {
   "cell_type": "code",
   "execution_count": null,
   "id": "f45f3c86-2b39-4615-8d9d-6b55cb79c3f4",
   "metadata": {},
   "outputs": [],
   "source": [
    "adata_ref.obs.subclass_label.value_counts()"
   ]
  },
  {
   "cell_type": "code",
   "execution_count": null,
   "id": "946088a6-46e5-4d03-883c-21a93f170d8f",
   "metadata": {},
   "outputs": [],
   "source": [
    "obs = adata_ref.obs.copy()\n",
    "obs = obs [['cell_type_alias_label','subclass_label','class_label']]\n",
    "obs = obs.drop_duplicates().reset_index(drop=True)\n",
    "obs.head()"
   ]
  },
  {
   "cell_type": "code",
   "execution_count": null,
   "id": "d8c09a13-16cd-48a8-a692-2690939345aa",
   "metadata": {},
   "outputs": [],
   "source": [
    "var_names = adata_ref.var_names.intersection(adata_int.var_names)\n",
    "var_names"
   ]
  },
  {
   "cell_type": "code",
   "execution_count": null,
   "id": "1d7068f7-78fc-4bc0-a774-781ae975851c",
   "metadata": {},
   "outputs": [],
   "source": [
    "sc.pp.neighbors(adata_ref, n_neighbors=100, n_pcs=20)"
   ]
  },
  {
   "cell_type": "code",
   "execution_count": null,
   "id": "d20d6427-ada4-4425-9fc2-d1bd7aa7de37",
   "metadata": {},
   "outputs": [],
   "source": [
    "adata_ref = adata_ref[:, var_names]\n",
    "adata_int = adata_int[:, var_names]"
   ]
  },
  {
   "cell_type": "code",
   "execution_count": null,
   "id": "bcb6ed19-564e-4d77-9517-f99780b72d68",
   "metadata": {},
   "outputs": [],
   "source": [
    "sc.tl.ingest(adata_int, adata_ref, obs='cell_type_alias_label')"
   ]
  },
  {
   "cell_type": "code",
   "execution_count": null,
   "id": "c77dc579-7d26-48e9-af2c-2a47e23b4988",
   "metadata": {},
   "outputs": [],
   "source": [
    "adata_int.obs.cell_type_alias_label.value_counts()"
   ]
  },
  {
   "cell_type": "code",
   "execution_count": null,
   "id": "f665acb5-3849-497c-a7b4-8fd76304de6b",
   "metadata": {},
   "outputs": [],
   "source": [
    "adata_int.obs['cell_type_alias_label'] = adata_int.obs['cell_type_alias_label'].astype('str')"
   ]
  },
  {
   "cell_type": "code",
   "execution_count": null,
   "id": "34ae0b1e-80f1-45cf-98fd-3cba5a60a024",
   "metadata": {},
   "outputs": [],
   "source": [
    "#subclss\n",
    "adata_int.obs['subclass_label']=adata_int.obs['cell_type_alias_label']"
   ]
  },
  {
   "cell_type": "code",
   "execution_count": null,
   "id": "cc694cba-d41a-41a2-85ec-3091014a8997",
   "metadata": {},
   "outputs": [],
   "source": []
  },
  {
   "cell_type": "code",
   "execution_count": null,
   "id": "7cc6612e-1688-4d6a-9f37-4f4a43d32396",
   "metadata": {},
   "outputs": [],
   "source": [
    "for celltype in obs['cell_type_alias_label'] :\n",
    "    subclass = obs.loc[obs['cell_type_alias_label']==celltype, 'subclass_label'].values[0]\n",
    "    adata_int.obs.loc[adata_int.obs['cell_type_alias_label']==celltype, 'subclass_label'] = subclass"
   ]
  },
  {
   "cell_type": "code",
   "execution_count": null,
   "id": "d1911476-b216-4be8-a786-e89620f4cfc6",
   "metadata": {},
   "outputs": [],
   "source": [
    "col_dict_subclass = {'Astrocyte':'#665c47ff', \n",
    "    'Chandelier':'#f641a8ff', \n",
    "    'Endothelial':'#8d6c62ff', \n",
    "    'L2/3 IT':'#b1ec30ff', \n",
    "    'L4 IT':'#00e5e5ff',\n",
    "    'L5 ET':'#0d5b78ff', \n",
    "    'L5 IT':'#50b2adff', \n",
    "    'L5/6 NP':'#3e9e64ff', \n",
    "    'L6 CT':'#2d8cb8ff', \n",
    "    'L6 IT':'#a19922ff',\n",
    "    'L6 IT Car3':'#5100ffff', \n",
    "    'L6b':'#7044aaff', \n",
    "    'Lamp5':'#da808cff', \n",
    "    'Lamp5 Lhx6':'#935f50ff', \n",
    "    'Microglia-PVM':'#94af97ff',\n",
    "    'OPC':'#374a45ff', \n",
    "    'Oligodendrocyte':'#53776cff', \n",
    "    'Pax6':'#71238cff', \n",
    "    'Pvalb':'#d93137ff', \n",
    "    'Sncg':'#df70ffff',\n",
    "    'Sst':'#ff9900ff', \n",
    "    'Sst Chodl':'#b1b10cff', \n",
    "    'VLMC':'#697255ff', \n",
    "    'Vip':'#a45fbfff'\n",
    "}"
   ]
  },
  {
   "cell_type": "code",
   "execution_count": null,
   "id": "4d9b6742-1454-4242-83c5-5bdbcd5a35f3",
   "metadata": {},
   "outputs": [],
   "source": [
    "adata_int.obs['subclass_label'] = adata_int.obs['subclass_label'].astype('str')\n",
    "#mainclass\n",
    "adata_int.obs['mainclass_label']=adata_int.obs['subclass_label']\n",
    "adata_int.obs.loc[adata_int.obs['subclass_label']=='IT', 'mainclass_label'] = 'Ext'\n",
    "adata_int.obs.loc[adata_int.obs['subclass_label']=='L4 IT', 'mainclass_label'] = 'Ext'\n",
    "adata_int.obs.loc[adata_int.obs['subclass_label']=='L5 ET', 'mainclass_label'] = 'Ext'\n",
    "adata_int.obs.loc[adata_int.obs['subclass_label']=='L5/6 NP', 'mainclass_label'] = 'Ext'\n",
    "adata_int.obs.loc[adata_int.obs['subclass_label']=='L5/6 IT Car3', 'mainclass_label'] = 'Ext'\n",
    "adata_int.obs.loc[adata_int.obs['subclass_label']=='L6 CT', 'mainclass_label'] = 'Ext'\n",
    "adata_int.obs.loc[adata_int.obs['subclass_label']=='L6b', 'mainclass_label'] = 'Ext'\n",
    "\n",
    "adata_int.obs.loc[adata_int.obs['subclass_label']=='PAX6', 'mainclass_label'] = 'IN'\n",
    "adata_int.obs.loc[adata_int.obs['subclass_label']=='SST', 'mainclass_label'] = 'IN'\n",
    "adata_int.obs.loc[adata_int.obs['subclass_label']=='PVALB', 'mainclass_label'] = 'IN'\n",
    "adata_int.obs.loc[adata_int.obs['subclass_label']=='VIP', 'mainclass_label'] = 'IN'\n",
    "adata_int.obs.loc[adata_int.obs['subclass_label']=='LAMP5', 'mainclass_label'] = 'IN'\n",
    "\n",
    "adata_int.obs.loc[adata_int.obs['subclass_label']=='Microglia', 'mainclass_label'] = 'MG'\n",
    "adata_int.obs.loc[adata_int.obs['subclass_label']=='Endothelial', 'mainclass_label'] = 'End'\n",
    "adata_int.obs.loc[adata_int.obs['subclass_label']=='VLMC', 'mainclass_label'] = 'VLMC'\n",
    "adata_int.obs.loc[adata_int.obs['subclass_label']=='Oligodendrocyte', 'mainclass_label'] = 'OD'\n",
    "adata_int.obs.loc[adata_int.obs['subclass_label']=='OPC', 'mainclass_label'] = 'OPC'\n",
    "adata_int.obs.loc[adata_int.obs['subclass_label']=='Astrocyte', 'mainclass_label'] = 'Ast'\n",
    "adata_int.obs.loc[adata_int.obs['subclass_label']=='Pericyte', 'mainclass_label'] = 'Per'"
   ]
  },
  {
   "cell_type": "code",
   "execution_count": null,
   "id": "35132e14-c5d9-4167-98f6-ecb491f18c5d",
   "metadata": {},
   "outputs": [],
   "source": [
    "adata"
   ]
  },
  {
   "cell_type": "code",
   "execution_count": null,
   "id": "88f5b3b6-b587-4651-9720-b9d0dc011569",
   "metadata": {},
   "outputs": [],
   "source": [
    "adata_int"
   ]
  },
  {
   "cell_type": "code",
   "execution_count": null,
   "id": "441933fa-5b77-419b-8c12-83a14b1f84e2",
   "metadata": {},
   "outputs": [],
   "source": [
    "sc.tl.umap(adata_int)"
   ]
  },
  {
   "cell_type": "code",
   "execution_count": null,
   "id": "3674d0d1-0738-4065-abc6-ec466e086643",
   "metadata": {},
   "outputs": [],
   "source": [
    "col_dict_cell = {\n",
    "    # Clade 1-1 (cereberum or celebellum)\n",
    "    'Ext': '#33a02c', # Ext\n",
    "    'IN': '#e31a1c',        \n",
    "    'OD': '#ff7f00', # OD\n",
    "    'Ast': '#1f78b4', # Ast\n",
    "    'MG': '#6a3d9a', # MG\n",
    "    'OPC': '#fdbf6f', # OPC\n",
    "    'End': '#b15928', # End\n",
    "    'VLMC':'#ffff99',\n",
    "    'Per':'#ffff99'\n",
    "    \n",
    "}"
   ]
  },
  {
   "cell_type": "code",
   "execution_count": null,
   "id": "32272e0c-cbaf-422c-8d59-fd4b61e41d7b",
   "metadata": {},
   "outputs": [],
   "source": [
    "# Use only intersected barcodes for concat\n",
    "intersected_index = adata.obs.index.intersection(adata_int.obs.index)\n",
    "\n",
    "adata = adata[intersected_index]\n",
    "adata"
   ]
  },
  {
   "cell_type": "code",
   "execution_count": null,
   "id": "d4e7b520-d5de-40d9-ae07-1da19368a9ba",
   "metadata": {},
   "outputs": [],
   "source": [
    "sum(adata.obs.index == adata_int.obs.index)"
   ]
  },
  {
   "cell_type": "code",
   "execution_count": null,
   "id": "ac2b0b8e-e371-4f85-849b-442c1c62d042",
   "metadata": {},
   "outputs": [],
   "source": [
    "# Update the cluster names\n",
    "adata.obs = adata_int.obs"
   ]
  },
  {
   "cell_type": "code",
   "execution_count": null,
   "id": "5c669c84-73d2-45ee-b8e2-5294298bf89f",
   "metadata": {},
   "outputs": [],
   "source": [
    "adata"
   ]
  },
  {
   "cell_type": "code",
   "execution_count": null,
   "id": "db91fa33-ad3c-46d3-acc5-ac106f5de35c",
   "metadata": {},
   "outputs": [],
   "source": [
    "sc.pl.umap(\n",
    "    adata,\n",
    "    color=[\"mainclass_label\"],\n",
    "    #legend_loc=\"on data\",\n",
    "    palette=col_dict_cell,\n",
    "    #legend_fontoutline=1,\n",
    "    save=\"_\" + dataset + \"_mainclass_label.pdf\"\n",
    ")"
   ]
  },
  {
   "cell_type": "code",
   "execution_count": null,
   "id": "ed492823-b66f-4352-b17e-4a3479a76d5d",
   "metadata": {},
   "outputs": [],
   "source": [
    "sc.pl.umap(adata, \n",
    "           color=['subclass_label' ],\n",
    "           #palette=col_dict_subclass,\n",
    "           save=\"_\"+dataset+\"_subclass_label.pdf\" \n",
    "          )"
   ]
  },
  {
   "cell_type": "code",
   "execution_count": null,
   "id": "6617f436-0159-4ca4-ac08-b9a262f6c320",
   "metadata": {},
   "outputs": [],
   "source": [
    "infile=path_dir + '/data/scanpy/SMC_Brain.QC.Harmony.anno.h5ad'\n",
    "adata.write(infile)"
   ]
  },
  {
   "cell_type": "code",
   "execution_count": null,
   "id": "83238845-7a00-4853-b1fc-13b76aa2a258",
   "metadata": {},
   "outputs": [],
   "source": []
  },
  {
   "cell_type": "markdown",
   "id": "b0d5b043-3ec1-4211-b101-ed0d326c138a",
   "metadata": {
    "tags": []
   },
   "source": [
    "# 05. Save Seurat raw "
   ]
  },
  {
   "cell_type": "code",
   "execution_count": null,
   "id": "2d6e27e2-78b8-430b-b051-623c73518716",
   "metadata": {},
   "outputs": [],
   "source": [
    "import scanpy as sc\n",
    "import pandas as pd\n",
    "from scipy import io\n",
    "import os"
   ]
  },
  {
   "cell_type": "code",
   "execution_count": null,
   "id": "cee0a14a-32d9-4921-86a6-68e482511017",
   "metadata": {},
   "outputs": [],
   "source": [
    "dataset='SMC_Brain'"
   ]
  },
  {
   "cell_type": "code",
   "execution_count": null,
   "id": "9476c13d-0e66-4035-9e0e-2446db33cc4f",
   "metadata": {},
   "outputs": [],
   "source": [
    "infile=path_dir + '/data/scanpy/SMC_Brain.QC.Harmony.anno.h5ad'"
   ]
  },
  {
   "cell_type": "code",
   "execution_count": null,
   "id": "ea2c2171-0cdb-422d-be5d-7e27eb539c81",
   "metadata": {},
   "outputs": [],
   "source": [
    "adata = sc.read(infile)"
   ]
  },
  {
   "cell_type": "code",
   "execution_count": null,
   "id": "152fb8c2-2f0e-401e-98fd-86b5d2bb11f6",
   "metadata": {},
   "outputs": [],
   "source": [
    "adata.obs.mainclass_label.value_counts()"
   ]
  },
  {
   "cell_type": "code",
   "execution_count": null,
   "id": "fb75e6c6-f5d9-4259-8dfb-37e09d8d2c9a",
   "metadata": {},
   "outputs": [],
   "source": [
    "class_list=adata.obs.mainclass_label.unique()\n",
    "class_list"
   ]
  },
  {
   "cell_type": "code",
   "execution_count": null,
   "id": "f8541511-bd49-4553-8c69-37ba69d2d09d",
   "metadata": {},
   "outputs": [],
   "source": [
    "with open(path_result + '/barcodes.tsv', 'w') as f:\n",
    "        for item in adata.obs_names:\n",
    "            f.write(item + '\\n')\n",
    "with open(path_result + '/features.tsv', 'w') as f:\n",
    "        for item in ['\\t'.join([x,x,'Gene Expression']) for x in adata.var_names]:\n",
    "            f.write(item + '\\n')\n",
    "io.mmwrite(path_result + '/matrix', adata.X.T)\n",
    "adata.obs.to_csv( path_result + '/metadata.csv')"
   ]
  },
  {
   "cell_type": "code",
   "execution_count": null,
   "id": "17d737c7-b4ed-4e13-b4da-5ffa46d6519c",
   "metadata": {},
   "outputs": [],
   "source": [
    "for cls in class_list :\n",
    "    print(cls)\n",
    "    try:\n",
    "        os.mkdir(path_result + cls)\n",
    "    except OSError as error:\n",
    "        print(error)\n",
    "    adata1=adata[adata.obs.mainclass_label==cls]\n",
    "    with open(path_result + cls + '/barcodes.tsv', 'w') as f:\n",
    "        for item in adata1.obs_names:\n",
    "            f.write(item + '\\n')\n",
    "    with open(path_result + cls + '/features.tsv', 'w') as f:\n",
    "        for item in ['\\t'.join([x,x,'Gene Expression']) for x in adata1.var_names]:\n",
    "            f.write(item + '\\n')\n",
    "    io.mmwrite(path_result + cls + '/matrix', adata1.X.T)\n",
    "    adata1.obs.to_csv( path_result + cls + '/metadata.csv')"
   ]
  },
  {
   "cell_type": "markdown",
   "id": "51d8f77c-59c0-4b8e-8fc3-b1316b57c414",
   "metadata": {},
   "source": [
    "# END"
   ]
  }
 ],
 "metadata": {
  "kernelspec": {
   "display_name": "scanpy",
   "language": "python",
   "name": "scanpy"
  },
  "language_info": {
   "codemirror_mode": {
    "name": "ipython",
    "version": 3
   },
   "file_extension": ".py",
   "mimetype": "text/x-python",
   "name": "python",
   "nbconvert_exporter": "python",
   "pygments_lexer": "ipython3",
   "version": "3.10.13"
  }
 },
 "nbformat": 4,
 "nbformat_minor": 5
}
