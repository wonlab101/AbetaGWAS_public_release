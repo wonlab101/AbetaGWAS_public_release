{
 "cells": [
  {
   "cell_type": "markdown",
   "id": "0a7b76fe",
   "metadata": {},
   "source": [
    "# SMC Brain(N = 9)"
   ]
  },
  {
   "cell_type": "code",
   "execution_count": null,
   "id": "f7044a8e-fbe0-4f40-ba39-9b775a583d0a",
   "metadata": {
    "tags": []
   },
   "outputs": [],
   "source": [
    "import scanpy as sc\n",
    "import os,sys,glob\n",
    "import pandas as pd\n",
    "import numpy as np\n",
    "import anndata as ad\n",
    "import matplotlib.pyplot as plt\n",
    "\n",
    "\n",
    "import scrublet as scr\n",
    "import seaborn as sns\n",
    "import multiprocessing"
   ]
  },
  {
   "cell_type": "code",
   "execution_count": null,
   "id": "5b2d1c43-2197-4201-87d9-d5883d2c0937",
   "metadata": {},
   "outputs": [],
   "source": [
    "sc.set_figure_params(figsize=(4, 4))\n",
    "\n",
    "%config InlineBackend.print_figure_kwargs={'facecolor' : \"w\"}\n",
    "%config InlineBackend.figure_format='retina'"
   ]
  },
  {
   "cell_type": "markdown",
   "id": "0fca7c5a-bde7-46d4-803b-50bcdca456d3",
   "metadata": {},
   "source": [
    "# 01.Data infro"
   ]
  },
  {
   "cell_type": "code",
   "execution_count": null,
   "id": "d143d96c-e4bd-471e-943d-fee681582e93",
   "metadata": {},
   "outputs": [],
   "source": [
    "dataset='SMC_Brain'"
   ]
  },
  {
   "cell_type": "code",
   "execution_count": null,
   "id": "7e5f4c99-ff3e-4bc8-b95a-19d3d827c74a",
   "metadata": {},
   "outputs": [],
   "source": [
    "adata = sc.read_h5ad(path_dir + '/data/scanpy/SMC_Brain.QC.Harmony.anno.h5ad')"
   ]
  },
  {
   "cell_type": "code",
   "execution_count": null,
   "id": "7552e6c9-86a1-4be6-a6f1-db66806624bb",
   "metadata": {},
   "outputs": [],
   "source": [
    "adata"
   ]
  },
  {
   "cell_type": "code",
   "execution_count": null,
   "id": "a691e825-a191-4f1f-9e6c-ea1400c93845",
   "metadata": {},
   "outputs": [],
   "source": [
    "adata.obs['batch'] = adata.obs['batch'].astype('category')\n",
    "sc.pl.umap(adata, color=[ 'batch' ],\n",
    "           #palette=col_dict_disease,\n",
    "           save='_' + dataset + '_QC_batch.pdf' \n",
    "          )"
   ]
  },
  {
   "cell_type": "markdown",
   "id": "e02697a7-dcd4-4e23-aba0-9dcb2893e2c8",
   "metadata": {},
   "source": [
    "col_dict_disease = {\n",
    "    'Control':'#bfc1c2', # Grey\n",
    "    'Active control':'#ff7f00',\n",
    "    'AD':'#e31a1c' # Red\n",
    "}\n",
    "sc.pl.umap(adata, color=[ 'Diagnosis' ],\n",
    "           palette=col_dict_disease,\n",
    "           #save='_' + dataset + '_QC_Diagnosis_before.pdf' \n",
    "           save='_' + dataset + '_QC_Diagnosis_before44.pdf' \n",
    "          )"
   ]
  },
  {
   "cell_type": "code",
   "execution_count": null,
   "id": "bc71a08f-987e-4273-840f-404fd7111a7f",
   "metadata": {},
   "outputs": [],
   "source": [
    "adata.obs.loc[(adata.obs['Diagnosis'] == 'Control'), 'Diagnosis2'] = 'Control'\n",
    "adata.obs.loc[(adata.obs['Diagnosis'] == 'Active control'), 'Diagnosis2'] = 'Control'\n",
    "adata.obs.loc[(adata.obs['Diagnosis'] == 'AD'), 'Diagnosis2'] = 'AD'"
   ]
  },
  {
   "cell_type": "code",
   "execution_count": null,
   "id": "461a9804-d793-4251-90a7-cd47ad0abfc1",
   "metadata": {},
   "outputs": [],
   "source": [
    "col_dict_disease = {\n",
    "    'Control':'#bfc1c2', # Grey\n",
    "    'AD':'#e31a1c' # Red\n",
    "}\n",
    "sc.pl.umap(adata, color=[ 'Diagnosis2' ],\n",
    "           palette=col_dict_disease,\n",
    "           #save='_' + dataset + '_QC_Diagnosis_before.pdf' \n",
    "           save='_' + dataset + '_QC_Diagnosis2_44.pdf' \n",
    "          )"
   ]
  },
  {
   "cell_type": "code",
   "execution_count": null,
   "id": "4a27d2f4-7f46-4f5a-96f4-625421a53c90",
   "metadata": {},
   "outputs": [],
   "source": [
    "col_dict_sex = {\n",
    "    'M':'#1f78b4', # Grey\n",
    "    'F':'#e31a1c' # Red\n",
    "}\n",
    "sc.pl.umap(adata, color=[ 'Sex' ],\n",
    "           palette=col_dict_sex,\n",
    "           save='_' + dataset + '_QC_Sex_44.pdf' \n",
    "          )"
   ]
  },
  {
   "cell_type": "code",
   "execution_count": null,
   "id": "ab2f7d42-1aef-47a0-8cb2-6e8b65ad3509",
   "metadata": {},
   "outputs": [],
   "source": [
    "col_dict_clabel = {\n",
    "    'High':'#e31a1c', # Grey\n",
    "    'Low':'#1f78b4' # Red\n",
    "}\n",
    "\n",
    "sc.pl.umap(adata, color=[ 'Clabel' ],\n",
    "           palette=col_dict_clabel,\n",
    "           save='_' + dataset + '_QC_Clabel_44.pdf' \n",
    "          )"
   ]
  },
  {
   "cell_type": "code",
   "execution_count": null,
   "id": "73c1caaf-4ba9-491e-9ab7-822fd906b7ed",
   "metadata": {},
   "outputs": [],
   "source": [
    "col_dict_cell = {\n",
    "    # Clade 1-1 (cereberum or celebellum)\n",
    "    'Ext': '#33a02c', # Ext\n",
    "    'IN': '#e31a1c',        \n",
    "    'OD': '#ff7f00', # OD\n",
    "    'Ast': '#1f78b4', # Ast\n",
    "    'MG': '#6a3d9a', # MG\n",
    "    'OPC': '#fdbf6f', # OPC\n",
    "    'End': '#b15928', # End\n",
    "    'VLMC':'#ffff99',\n",
    "    'Per':'#ffff99'\n",
    "    \n",
    "}\n",
    "\n",
    "sc.pl.umap(\n",
    "    adata,\n",
    "    color=[\"mainclass_label\"],\n",
    "    palette=col_dict_cell,\n",
    "    save=\"_\" + dataset + \"_mainclass_44.pdf\"\n",
    ")"
   ]
  },
  {
   "cell_type": "code",
   "execution_count": null,
   "id": "2d2b0767-4258-4090-ae4c-92fa57b554e5",
   "metadata": {},
   "outputs": [],
   "source": [
    "sc.pp.normalize_total(adata, target_sum=1e4)\n",
    "sc.pp.log1p(adata)\n",
    "sc.pp.scale(adata, max_value=10)"
   ]
  },
  {
   "cell_type": "code",
   "execution_count": null,
   "id": "51730c8d-5d0b-4895-b63f-a86e63a67367",
   "metadata": {},
   "outputs": [],
   "source": [
    "target_genes = ['SORL1', 'CR1', 'FERMT2']\n",
    "\n",
    "\n",
    "marker_genes = [gene for gene in target_genes if gene in adata.var_names]\n",
    "\n",
    "print(marker_genes)"
   ]
  },
  {
   "cell_type": "code",
   "execution_count": null,
   "id": "ebb2fd1d-2aed-4cf1-b6ce-f957e4e06445",
   "metadata": {},
   "outputs": [],
   "source": [
    "sc.pl.umap(adata, \n",
    "           color=['SORL1', 'CR1', 'FERMT2'],\n",
    "           vmin=-2, vmax=2, cmap=\"RdBu_r\",\n",
    "           save=\"_\" + dataset + \"_abeta_exp_zscore.pdf\"\n",
    "          )"
   ]
  },
  {
   "cell_type": "markdown",
   "id": "51d8f77c-59c0-4b8e-8fc3-b1316b57c414",
   "metadata": {},
   "source": [
    "# END"
   ]
  },
  {
   "cell_type": "code",
   "execution_count": null,
   "id": "e3036ba5-f66a-4153-8bac-111cc001e8d1",
   "metadata": {},
   "outputs": [],
   "source": []
  }
 ],
 "metadata": {
  "kernelspec": {
   "display_name": "scanpy",
   "language": "python",
   "name": "scanpy"
  },
  "language_info": {
   "codemirror_mode": {
    "name": "ipython",
    "version": 3
   },
   "file_extension": ".py",
   "mimetype": "text/x-python",
   "name": "python",
   "nbconvert_exporter": "python",
   "pygments_lexer": "ipython3",
   "version": "3.10.13"
  }
 },
 "nbformat": 4,
 "nbformat_minor": 5
}
